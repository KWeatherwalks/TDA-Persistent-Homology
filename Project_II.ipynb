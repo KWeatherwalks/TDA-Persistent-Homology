{
 "cells": [
  {
   "cell_type": "markdown",
   "metadata": {},
   "source": [
    "### Import Data\n",
    "\n",
    "Need to take the .las file containing the point cloud and sample 1000 points from it. Sampling should be done uniformly.\n",
    "\n",
    "\n",
    "Data from:\n",
    "https://www.lpi.usra.edu/publications/books/barringer_crater_guidebook/LiDAR/\n",
    "\n",
    "Map of area:\n",
    "http://opentopo.sdsc.edu/lidarDataset?opentopoID=OTLAS.112011.26912.3\n",
    "\n"
   ]
  },
  {
   "cell_type": "code",
   "execution_count": null,
   "metadata": {},
   "outputs": [],
   "source": [
    "# !pip install laspy\n",
    "pip install dionysus"
   ]
  },
  {
   "cell_type": "code",
   "execution_count": null,
   "metadata": {},
   "outputs": [],
   "source": [
    "from laspy.file import File\n",
    "import numpy as np\n",
    "\n",
    "# Get file\n",
    "las_file = \"points.las\"\n",
    "# Read file\n",
    "inFile = File(las_file, mode='r')\n",
    "data = inFile.points\n",
    "# inFile.close() # this must be placed at the end after all calculations have been made using data"
   ]
  },
  {
   "cell_type": "code",
   "execution_count": null,
   "metadata": {},
   "outputs": [],
   "source": [
    "head = inFile.header\n",
    "max_x, max_y, max_z = head.max\n",
    "min_x, min_y, min_z = head.min\n",
    "\n",
    "range_x = (max_x-min_x)\n",
    "range_y = (max_y-min_y)\n",
    "range_z = (max_z-min_z)\n",
    "\n",
    "print(max_x,max_y,max_z)\n",
    "print(min_x,min_y,min_z)"
   ]
  },
  {
   "cell_type": "code",
   "execution_count": null,
   "metadata": {},
   "outputs": [],
   "source": [
    "import random\n",
    "\n",
    "n = len(data)\n",
    "num_points_sampled = 1000\n",
    "xs = np.zeros(num_points_sampled)\n",
    "ys = np.zeros(num_points_sampled)\n",
    "zs = np.zeros(num_points_sampled)\n",
    "\n",
    "for i in range(3):\n",
    "    # Get list of random indices between 0 and len(data)\n",
    "    rand_indices = random.sample(range(n+1), num_points_sampled)\n",
    "    for c, idx in enumerate(rand_indices):\n",
    "        xs[c] = (data[idx][0][0]/100 - min_x)/(max_x-min_x)\n",
    "        ys[c] = (data[idx][0][1]/100 - min_y)/(max_y-min_y)\n",
    "        zs[c] = (data[idx][0][2]/100 - min_z)/(max_z-min_z)\n",
    "    np.save('sample_points_{}'.format(i), np.stack((xs,ys,zs), axis=-1))"
   ]
  },
  {
   "cell_type": "code",
   "execution_count": null,
   "metadata": {},
   "outputs": [],
   "source": [
    "# point_cloud_1 = np.stack((xs,ys,zs), axis=-1)\n",
    "# np.save('pc1.npy', point_cloud_1)"
   ]
  },
  {
   "cell_type": "code",
   "execution_count": null,
   "metadata": {},
   "outputs": [],
   "source": [
    "from mpl_toolkits.mplot3d import Axes3D\n",
    "import matplotlib.pyplot as plt\n",
    "\n",
    "fig = plt.figure()\n",
    "ax = fig.add_subplot(111, projection='3d')\n",
    "ax.scatter(xs, ys, zs, c='r', marker='.')\n",
    "ax.set_xlabel('X Label')\n",
    "ax.set_ylabel('Y Label')\n",
    "ax.set_zlabel('Z Label')\n",
    "plt.show()"
   ]
  },
  {
   "cell_type": "code",
   "execution_count": null,
   "metadata": {},
   "outputs": [],
   "source": [
    "# Code by Mark Leadingham\n",
    "def better_plots(dgms,deg):\n",
    "    new_death=0\n",
    "    for degree, dgm in enumerate(dgms):\n",
    "        for point in dgm:\n",
    "            if point.death != float('inf'):\n",
    "                if point.death>new_death:\n",
    "                    new_death=float(point.death)\n",
    "    new_death=new_death*1.25\n",
    "    #Plot the barcodes\n",
    "#     fig=plt.figure()\n",
    "    \n",
    "    patches = []\n",
    "    iterate=0\n",
    "    for degree, dgm in enumerate(dgms):\n",
    "        if degree>=deg-1:\n",
    "            break\n",
    "        fig=plt.figure(degree)\n",
    "        for point in dgm:\n",
    "            if float(point.death) != float('inf'): \n",
    "                plt.plot([point.birth,point.death], [iterate,iterate])\n",
    "            else:\n",
    "                plt.plot([point.birth, new_death], [iterate,iterate])\n",
    "#                 arrow = mpatches.Arrow((iterate, point.birth), (iterate, point.death))\n",
    "#                 patches.append(arrow)\n",
    "            iterate+=1\n",
    "        plt.title('Degree: '+str(degree))\n",
    "        plt.xlabel('Parameter, r')\n",
    "        plt.show()\n",
    "    \n",
    "    for degree, dgm in enumerate(dgms):\n",
    "        if degree>=deg-1:\n",
    "            break\n",
    "        fig2=plt.figure(degree)\n",
    "        for point in dgm:\n",
    "            #if degree==2:\n",
    "                #print(point.birth, point.death)\n",
    "            if float(point.death) != float('inf'): \n",
    "                plt.scatter(point.birth,point.death, figure=fig2)\n",
    "            else:\n",
    "                plt.scatter(point.birth, new_death, figure=fig2)\n",
    "        maxe=new_death\n",
    "            \n",
    "        plt.plot([0,maxe],[0,maxe], figure=fig2)\n",
    "        plt.title('Degree: '+str(degree))\n",
    "        plt.show()"
   ]
  },
  {
   "cell_type": "code",
   "execution_count": null,
   "metadata": {},
   "outputs": [],
   "source": [
    "import dionysus as dio\n",
    "from scipy.spatial.distance import squareform\n",
    "from scipy.spatial.distance import pdist\n",
    "\n",
    "compressed_M = squareform(pdist(point_cloud_1,'euclidean'))\n",
    "fil_rips = d.fill_rips(compressed_M, 3, 3)\n",
    "fil_cech = d.fill_cech(compressed_M, 3, 3)\n",
    "h = d.homology_persistence(fil_rips)\n",
    "dgms = d.init_diagrams(h,fil_rips)\n",
    "\n",
    "better_plots(dgms,3)"
   ]
  }
 ],
 "metadata": {
  "kernelspec": {
   "display_name": "Python 3",
   "language": "python",
   "name": "python3"
  },
  "language_info": {
   "codemirror_mode": {
    "name": "ipython",
    "version": 3
   },
   "file_extension": ".py",
   "mimetype": "text/x-python",
   "name": "python",
   "nbconvert_exporter": "python",
   "pygments_lexer": "ipython3",
   "version": "3.6.8"
  }
 },
 "nbformat": 4,
 "nbformat_minor": 2
}
